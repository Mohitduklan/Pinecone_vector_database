{
 "cells": [
  {
   "cell_type": "markdown",
   "id": "82e26885",
   "metadata": {},
   "source": [
    "**Importing text lib**\n",
    "\n",
    "To install gensim: pip install gensim"
   ]
  },
  {
   "cell_type": "code",
   "execution_count": 49,
   "id": "d648bf04",
   "metadata": {},
   "outputs": [],
   "source": [
    "from gensim.models import Word2Vec\n",
    "import gensim.downloader"
   ]
  },
  {
   "cell_type": "markdown",
   "id": "d2a0c114",
   "metadata": {},
   "source": [
    "**Defining text**"
   ]
  },
  {
   "cell_type": "code",
   "execution_count": 57,
   "id": "68f0eccc",
   "metadata": {},
   "outputs": [
    {
     "data": {
      "text/plain": [
       "[['the', 'cat', 'chased', 'the', 'mouse'],\n",
       " ['i', 'enjoy', 'eating', 'pizza'],\n",
       " ['the', 'sun', 'is', 'shining', 'brightly'],\n",
       " ['she', 'played', 'the', 'piano', 'skillfully'],\n",
       " ['the',\n",
       "  'car',\n",
       "  'engine',\n",
       "  'revved',\n",
       "  'as',\n",
       "  'it',\n",
       "  'sped',\n",
       "  'down',\n",
       "  'the',\n",
       "  'highway'],\n",
       " ['the', 'raindrops', 'tapped', 'gently', 'on', 'the', 'windowpane'],\n",
       " ['he', 'was', 'reading', 'an', 'engaging', 'novel'],\n",
       " ['the', 'children', 'laughed', 'and', 'played', 'in', 'the', 'playground'],\n",
       " ['i', 'love', 'going', 'for', 'long', 'walks', 'on', 'the', 'beach'],\n",
       " ['the',\n",
       "  'teacher',\n",
       "  'explained',\n",
       "  'the',\n",
       "  'concept',\n",
       "  'with',\n",
       "  'clarity',\n",
       "  'and',\n",
       "  'enthusiasm']]"
      ]
     },
     "execution_count": 57,
     "metadata": {},
     "output_type": "execute_result"
    }
   ],
   "source": [
    "para = '''The cat chased the mouse.\n",
    "I enjoy eating pizza.\n",
    "The sun is shining brightly.\n",
    "She played the piano skillfully.\n",
    "The car engine revved as it sped down the highway.\n",
    "The raindrops tapped gently on the windowpane.\n",
    "He was reading an engaging novel.\n",
    "The children laughed and played in the playground.\n",
    "I love going for long walks on the beach.\n",
    "The teacher explained the concept with clarity and enthusiasm.'''.replace(\".\", \"\")\n",
    "\n",
    "sent = para.split(\"\\n\")\n",
    "\n",
    "corpus = list(map(lambda x: x.lower().split(), sent))\n",
    "corpus"
   ]
  },
  {
   "cell_type": "code",
   "execution_count": 50,
   "id": "6e2c1ea4",
   "metadata": {},
   "outputs": [
    {
     "name": "stdout",
     "output_type": "stream",
     "text": [
      "[==================================================] 100.0% 104.8/104.8MB downloaded\n"
     ]
    }
   ],
   "source": [
    "# Loading pretrained model which have 25 dimention vector\n",
    "glove_vectors = gensim.downloader.load('glove-twitter-25')"
   ]
  },
  {
   "cell_type": "code",
   "execution_count": 62,
   "id": "9322de50",
   "metadata": {},
   "outputs": [],
   "source": [
    "# Checking if model is accurate"
   ]
  },
  {
   "cell_type": "code",
   "execution_count": 58,
   "id": "db9b864f",
   "metadata": {},
   "outputs": [
    {
     "data": {
      "text/plain": [
       "[('food', 0.9221873879432678),\n",
       " ('eat', 0.921718180179596),\n",
       " ('fun', 0.9110204577445984),\n",
       " ('home', 0.9097210168838501),\n",
       " ('instead', 0.9087727069854736),\n",
       " ('drink', 0.906402587890625),\n",
       " ('some', 0.9060022830963135),\n",
       " (\"'m\", 0.9031291604042053),\n",
       " ('made', 0.901669979095459),\n",
       " ('making', 0.8984105587005615)]"
      ]
     },
     "execution_count": 58,
     "metadata": {},
     "output_type": "execute_result"
    }
   ],
   "source": [
    "glove_vectors.most_similar(\"I enjoy eating pizza\".lower().split())"
   ]
  },
  {
   "cell_type": "code",
   "execution_count": 72,
   "id": "6aba9e67",
   "metadata": {},
   "outputs": [
    {
     "data": {
      "text/plain": [
       "array([-0.8138  ,  0.69989 , -0.23549 , -0.096892, -0.35515 ,  0.44054 ,\n",
       "        1.7738  ,  0.03799 , -0.37699 ,  0.16381 , -0.81882 ,  0.080593,\n",
       "       -3.5741  ,  0.11813 , -0.092855,  0.25156 ,  0.33449 , -1.0556  ,\n",
       "       -0.47396 , -0.36944 , -0.79883 , -0.62922 , -1.0395  ,  0.70612 ,\n",
       "        0.15686 ], dtype=float32)"
      ]
     },
     "execution_count": 72,
     "metadata": {},
     "output_type": "execute_result"
    }
   ],
   "source": [
    "glove_vectors[\"enjoy\"]"
   ]
  },
  {
   "cell_type": "markdown",
   "id": "4295854c",
   "metadata": {},
   "source": [
    "Since we want to query sentences not words, we will average vector of words in sentance"
   ]
  },
  {
   "cell_type": "code",
   "execution_count": null,
   "id": "025905a0",
   "metadata": {},
   "outputs": [],
   "source": [
    "id_to_sent = {sent[itr]: itr for }"
   ]
  },
  {
   "cell_type": "code",
   "execution_count": 114,
   "id": "18e81cea",
   "metadata": {},
   "outputs": [],
   "source": [
    "def sent_to_vector(corpus):\n",
    "    vector_data = []\n",
    "    for sent in corpus:\n",
    "        vectors = []\n",
    "        for word in sent:\n",
    "            vectors.append(glove_vectors[word].tolist())\n",
    "        vector_data.append((\" \".join(sent), np.sum(vectors, axis=0).tolist()))\n",
    "    return vector_data"
   ]
  },
  {
   "cell_type": "code",
   "execution_count": 115,
   "id": "86233605",
   "metadata": {},
   "outputs": [],
   "source": [
    "vector_data = sent_to_vector(corpus)"
   ]
  },
  {
   "cell_type": "code",
   "execution_count": 116,
   "id": "44ade983",
   "metadata": {},
   "outputs": [
    {
     "data": {
      "text/plain": [
       "('the cat chased the mouse',\n",
       " [-2.097753996029496,\n",
       "  -0.6997420080006123,\n",
       "  3.74414986371994,\n",
       "  1.3985699713230133,\n",
       "  -1.0467499792575836,\n",
       "  -0.4337830077856779,\n",
       "  5.812720134854317,\n",
       "  -1.2122599333524704,\n",
       "  1.1291100680828094,\n",
       "  0.2251499891281128,\n",
       "  1.4787900149822235,\n",
       "  1.618649959564209,\n",
       "  -20.55910015106201,\n",
       "  -1.4676549565047026,\n",
       "  -0.6231200098991394,\n",
       "  0.39038002490997314,\n",
       "  3.4229598939418793,\n",
       "  -0.6336942254565656,\n",
       "  1.2204300314188004,\n",
       "  -0.3917349874973297,\n",
       "  -1.6268289387226105,\n",
       "  2.1921599209308624,\n",
       "  2.0557399690151215,\n",
       "  -3.919379949569702,\n",
       "  -0.6049499809741974])"
      ]
     },
     "execution_count": 116,
     "metadata": {},
     "output_type": "execute_result"
    }
   ],
   "source": [
    "list(vector_data)[0]"
   ]
  },
  {
   "cell_type": "markdown",
   "id": "a53258d3",
   "metadata": {},
   "source": [
    "**Importing libs for pinecone**"
   ]
  },
  {
   "cell_type": "code",
   "execution_count": 94,
   "id": "eb7eb07c",
   "metadata": {},
   "outputs": [],
   "source": [
    "import json\n",
    "import numpy as np\n",
    "import pinecone"
   ]
  },
  {
   "cell_type": "markdown",
   "id": "3978bb50",
   "metadata": {},
   "source": [
    "Reading api info saved in json file"
   ]
  },
  {
   "cell_type": "code",
   "execution_count": 5,
   "id": "f478a0a8",
   "metadata": {},
   "outputs": [],
   "source": [
    "with open(\"./api_info.json\", \"r\") as file:\n",
    "    api_info = json.loads(file.read())[0]"
   ]
  },
  {
   "cell_type": "markdown",
   "id": "26ff1f6c",
   "metadata": {},
   "source": [
    "**Connecting to pinecone**"
   ]
  },
  {
   "cell_type": "code",
   "execution_count": 7,
   "id": "6e89b767",
   "metadata": {},
   "outputs": [],
   "source": [
    "pinecone.init(api_key=api_info[\"api_key\"], environment=api_info[\"environment\"])"
   ]
  },
  {
   "cell_type": "markdown",
   "id": "4d59152c",
   "metadata": {},
   "source": [
    "**Creating index**\n",
    "\n",
    "default value for metric is cosine\n",
    "\n",
    "Can not use _ in naming index\n",
    "\n",
    "The following example creates an index without a metadata configuration. By default, Pinecone indexes all metadata."
   ]
  },
  {
   "cell_type": "code",
   "execution_count": 104,
   "id": "aa5a4e01",
   "metadata": {},
   "outputs": [],
   "source": [
    "pinecone.create_index(\"index-op\", dimension=25)"
   ]
  },
  {
   "cell_type": "markdown",
   "id": "25acc715",
   "metadata": {},
   "source": [
    "**Connecting to index**"
   ]
  },
  {
   "cell_type": "code",
   "execution_count": 105,
   "id": "1e3fac12",
   "metadata": {},
   "outputs": [],
   "source": [
    "index = pinecone.Index(\"index-op\")"
   ]
  },
  {
   "cell_type": "markdown",
   "id": "a712ca70",
   "metadata": {},
   "source": [
    "**Inserting data**"
   ]
  },
  {
   "cell_type": "code",
   "execution_count": 106,
   "id": "2798d973",
   "metadata": {},
   "outputs": [
    {
     "data": {
      "text/plain": [
       "{'upserted_count': 10}"
      ]
     },
     "execution_count": 106,
     "metadata": {},
     "output_type": "execute_result"
    }
   ],
   "source": [
    "index.upsert(vector_data)"
   ]
  },
  {
   "cell_type": "markdown",
   "id": "ee06876b",
   "metadata": {},
   "source": [
    "**Querying DB**"
   ]
  },
  {
   "cell_type": "code",
   "execution_count": 120,
   "id": "79a7783a",
   "metadata": {},
   "outputs": [
    {
     "data": {
      "text/plain": [
       "('teacher and children are playing with cat',\n",
       " [-3.2150900214910507,\n",
       "  0.45599398016929626,\n",
       "  2.628921963274479,\n",
       "  -0.6650390140712261,\n",
       "  0.2121719792485237,\n",
       "  -1.426639936864376,\n",
       "  10.166300058364868,\n",
       "  -2.2912970362231135,\n",
       "  0.021769024431705475,\n",
       "  0.5260280072689056,\n",
       "  0.22117400914430618,\n",
       "  1.8445659428834915,\n",
       "  -32.64740037918091,\n",
       "  -1.6807800121605396,\n",
       "  0.5909821628592908,\n",
       "  -0.4874569969251752,\n",
       "  2.169450044631958,\n",
       "  -2.7750430554151535,\n",
       "  1.8976910039782524,\n",
       "  -1.7930880882777274,\n",
       "  -0.30639907717704773,\n",
       "  1.3508699834346771,\n",
       "  -2.4706099033355713,\n",
       "  -3.3444470278918743,\n",
       "  -1.3290099650621414])"
      ]
     },
     "execution_count": 120,
     "metadata": {},
     "output_type": "execute_result"
    }
   ],
   "source": [
    "sent = [\"teacher and children are playing with cat\".split()]\n",
    "test_vector = sent_to_vector(sent)[0]\n",
    "test_vector"
   ]
  },
  {
   "cell_type": "code",
   "execution_count": 122,
   "id": "573fa927",
   "metadata": {},
   "outputs": [
    {
     "data": {
      "text/plain": [
       "{'matches': [{'id': 'the children laughed and played in the playground',\n",
       "              'score': 0.975262046,\n",
       "              'values': []},\n",
       "             {'id': 'the cat chased the mouse',\n",
       "              'score': 0.959757924,\n",
       "              'values': []},\n",
       "             {'id': 'i love going for long walks on the beach',\n",
       "              'score': 0.95922786,\n",
       "              'values': []}],\n",
       " 'namespace': ''}"
      ]
     },
     "execution_count": 122,
     "metadata": {},
     "output_type": "execute_result"
    }
   ],
   "source": [
    "index.query(\n",
    "    vector=test_vector[1],\n",
    "    top_k=3,\n",
    ")"
   ]
  },
  {
   "cell_type": "code",
   "execution_count": null,
   "id": "7462d9c8",
   "metadata": {},
   "outputs": [],
   "source": []
  }
 ],
 "metadata": {
  "kernelspec": {
   "display_name": "Python 3 (ipykernel)",
   "language": "python",
   "name": "python3"
  },
  "language_info": {
   "codemirror_mode": {
    "name": "ipython",
    "version": 3
   },
   "file_extension": ".py",
   "mimetype": "text/x-python",
   "name": "python",
   "nbconvert_exporter": "python",
   "pygments_lexer": "ipython3",
   "version": "3.10.10"
  }
 },
 "nbformat": 4,
 "nbformat_minor": 5
}
